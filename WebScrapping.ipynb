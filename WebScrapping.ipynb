{
 "cells": [
  {
   "cell_type": "code",
   "execution_count": 22,
   "metadata": {
    "collapsed": true
   },
   "outputs": [],
   "source": [
    "import argparse\n",
    "import json\n",
    "import pprint\n",
    "import sys\n",
    "import urllib\n",
    "import urllib2\n",
    "import time\n",
    "import datetime\n",
    "import pandas as pd"
   ]
  },
  {
   "cell_type": "code",
   "execution_count": 33,
   "metadata": {
    "collapsed": false
   },
   "outputs": [
    {
     "name": "stdout",
     "output_type": "stream",
     "text": [
      "[u'RoboCop', u'Non-Stop', u'The Monuments Men', u'Ride Along', u'I, Frankenstein', u'The Legend of Hercules', u'Jack Ryan: Shadow Recruit', u\"Devil's Due\", u'That Awkward Moment', u'Yves Saint Laurent', u'Veeram', u'Jilla', u'Human Capital', u'Wish I Was Here', u'The Skeleton Twins', u'Comic 8', u'Infinitely Polar Bear', u'Excuse my French', u'The Zero Theorem', u'A Girl Walks Home Alone at Night']\n",
      "[u'2014', u'2014', u'2014', u'2014', u'2014', u'2014', u'2014', u'2014', u'2014', u'2014', u'2014', u'2014', u'2014', u'2014', u'2014', u'2014', u'2014', u'2014', u'2014', u'2014']\n"
     ]
    }
   ],
   "source": [
    "# Testing of TMDb API \n",
    "API_key = 'd2189e753db5381d70ac0d51e45b19cc'\n",
    "def getUrl(startyear, startmonth, endyear, endmonth, page):\n",
    "    domain = 'http://api.themoviedb.org/3/discover/movie?language=en&page='+str(page)+'&sort_by=revenue.desc&primary_release_date.gte='\n",
    "    url = domain +str(startyear) + '-'+str(startmonth)+'-02&primary_release_date.lte='+str(endyear) + '-'+str(endmonth)+'-01&api_key='+API_key\n",
    "    return url\n",
    "\n",
    "names = [] # Declaring the empty list for appending \n",
    "years = []\n",
    "year = 2014\n",
    "month = 1\n",
    "page = 1\n",
    "if (month == 12):\n",
    "    url = getUrl(year, month, year+1, 1, page)\n",
    "else:\n",
    "    url = getUrl(year, month, year, month+1, page)\n",
    "data = json.loads(urllib2.urlopen(url).read())\n",
    "results = data['results']\n",
    "for i in results:\n",
    "    names.append(i['title']) # Creating a list of dictionaries \n",
    "    years.append((i['release_date']).split('-')[0])\n",
    "print names\n",
    "print years\n"
   ]
  },
  {
   "cell_type": "code",
   "execution_count": 34,
   "metadata": {
    "collapsed": false
   },
   "outputs": [
    {
     "name": "stdout",
     "output_type": "stream",
     "text": [
      "2014\n"
     ]
    }
   ],
   "source": [
    "# Get movie names from TMDb\n",
    "# Rotten Tomatoes API does not support search movies by year. I tried querying all possible movie ID.\n",
    "# However, it was very exhaustive requiring extremely high number of API calls well beyond API call limits.\n",
    "# So, I decided to get movies names by year in TMDb API. The movies names from TMDb API would also correspond to\n",
    "# the movies names in Rotten Tomatoes which would give us movie IDs and the relevant information of each movie.  \n",
    "API_key = 'd2189e753db5381d70ac0d51e45b19cc'\n",
    "def getUrl(startyear, startmonth, endyear, endmonth, page):\n",
    "    domain = 'http://api.themoviedb.org/3/discover/movie?language=en&page='+str(page)+'&sort_by=revenue.desc&primary_release_date.gte='\n",
    "    url = domain +str(startyear) + '-'+str(startmonth)+'-02&primary_release_date.lte='+str(endyear) + '-'+str(endmonth)+'-01&api_key='+API_key\n",
    "    return url\n",
    "\n",
    "names = [] # Declaring the empty list for appending \n",
    "years = []\n",
    "for year in xrange(2014, 2015):\n",
    "    print year # To check if it runs through \n",
    "    for month in xrange(1, 8):\n",
    "        for page in xrange(1,4):\n",
    "            time.sleep(0.35) # to prevent the overflow and stopping of the execution \n",
    "            if (month == 12):\n",
    "                url = getUrl(year, month, year+1, 1, page)\n",
    "            else:\n",
    "                url = getUrl(year, month, year, month+1, page)\n",
    "            data = json.loads(urllib2.urlopen(url).read())\n",
    "            results = data['results']\n",
    "            for i in results:\n",
    "                names.append(i['title']) # Creating a list of dictionaries \n",
    "                years.append((i['release_date']).split('-')[0])\n"
   ]
  },
  {
   "cell_type": "code",
   "execution_count": 36,
   "metadata": {
    "collapsed": false
   },
   "outputs": [],
   "source": [
    "# Storing the information to a csv file for future use \n",
    "Movies = pd.DataFrame({'Name':names, 'Year': years}) # Dataframe that has two dictionaries \n",
    "Movies = Movies.drop_duplicates()\n",
    "Movies.to_csv('Movies.csv', encoding='utf-8', index=False) # Since we don't need to write row names (index = False)"
   ]
  },
  {
   "cell_type": "code",
   "execution_count": 37,
   "metadata": {
    "collapsed": false
   },
   "outputs": [
    {
     "name": "stdout",
     "output_type": "stream",
     "text": [
      "(417, 2)\n"
     ]
    }
   ],
   "source": [
    "print Movies.shape # Checking the size of our movie list "
   ]
  },
  {
   "cell_type": "code",
   "execution_count": 26,
   "metadata": {
    "collapsed": false
   },
   "outputs": [
    {
     "name": "stdout",
     "output_type": "stream",
     "text": [
      "{u'total_results': 829, u'total_pages': 42, u'page': 3, u'results': [{u'poster_path': u'/jUC43wstAaGeUmTYJrFiklC20qH.jpg', u'title': u'Maniac Nurses', u'overview': u'In a remote fortress, a sinister sorority of surgically skilled sisters lie in wait of their next victim. They control a bevy of caged women who have been brain washed and sponge-batherto become the worlds most anatomically awesome surgeons. This is the git-wrenching story of one innocent girl, Sabrina, who finds herself trapped in a living nightmare. Captive to a slavery ring that is training an', u'release_date': u'1992-01-01', u'popularity': 1.00396, u'original_title': u'Maniac Nurses', u'backdrop_path': u'/yQDnQRvtEsR04BND3fJV8V3wzRr.jpg', u'vote_count': 9, u'video': False, u'adult': False, u'vote_average': 2.9, u'original_language': u'en', u'id': 19351, u'genre_ids': [35, 27]}, {u'poster_path': u'/tHclnKV0MRd24CQ5gHsWjlJncjp.jpg', u'title': u'Dominion', u'overview': u'No overview found.', u'release_date': u'1992-01-01', u'popularity': 1.000004, u'original_title': u'Dominion', u'backdrop_path': None, u'vote_count': 0, u'video': False, u'adult': False, u'vote_average': 0, u'original_language': u'en', u'id': 29761, u'genre_ids': []}, {u'poster_path': u'/nW9M5VVM6cVIsIaGTfNwCZtisHA.jpg', u'title': u'Where The Red Fern Grows II: The Classic Continues', u'overview': u\"An embittered WWII veteran returns to his grandfather's home in the Louisiana woods. The old man helps his grandson readjust by giving him two hound dog puppies to care for.\", u'release_date': u'1992-01-01', u'popularity': 1.001972, u'original_title': u'Where The Red Fern Grows II: The Classic Continues', u'backdrop_path': u'/nF0prp0PA4wQhCfhU2KHtnyiWZE.jpg', u'vote_count': 4, u'video': False, u'adult': False, u'vote_average': 5.5, u'original_language': u'en', u'id': 30101, u'genre_ids': [10751]}, {u'poster_path': u'/5qwXVDk5h2ptAdVTdD01lDzMF6E.jpg', u'title': u'Chickboxer', u'overview': u'Inspired by a television show featuring a kickboxing heroine, a woman named Kathy (Julie Suscinski) enrolls at a martial arts school in this low-budget action-comedy. When Kathy learns that the school is a front for drugs, prostitution, and blackmail, she uses her new skills to take the bad guys down.', u'release_date': u'1992-01-01', u'popularity': 1.000443, u'original_title': u'Chickboxer', u'backdrop_path': None, u'vote_count': 0, u'video': False, u'adult': False, u'vote_average': 0, u'original_language': u'en', u'id': 30750, u'genre_ids': [28]}, {u'poster_path': u'/nQnWZedwgByrVAq9rJbP2CIXWlt.jpg', u'title': u'Project Vampire', u'overview': u'A vampire scientist psychically charges the \"longevity serum\" he sells across the world, making all who use it into vampires loyal to him.', u'release_date': u'1992-01-01', u'popularity': 1.08, u'original_title': u'Project Vampire', u'backdrop_path': None, u'vote_count': 2, u'video': False, u'adult': False, u'vote_average': 4.5, u'original_language': u'en', u'id': 30782, u'genre_ids': [27]}, {u'poster_path': u'/pPkjv0WCpZ71O5boD02mRHcL31A.jpg', u'title': u'Don Quixote', u'overview': u'After reading too many novels about knights and heroic stories, Don Quijote and his servant Sancho Panza decide to wander the roads of Spain to protect the weak and to accomplish good deeds. But the real world is not as magical and fairy as Don Quijote imagines it to be. Following the plot of Cervantes classical book, Don Quijote fights with windmills thinking they are giants but unluckily, he man', u'release_date': u'1992-01-01', u'popularity': 1.051143, u'original_title': u'Don Quijote de Orson Welles', u'backdrop_path': u'/stDZ9WpYeD8hj7zg9W1DbsbJA0M.jpg', u'vote_count': 7, u'video': False, u'adult': False, u'vote_average': 6.6, u'original_language': u'en', u'id': 31987, u'genre_ids': [18]}, {u'poster_path': u'/kluUbAIWxyW4QbTWHxUpL1gF80m.jpg', u'title': u'Henry Rollins: Talking From The Box', u'overview': u'Henry Rollins is best known as the former frontman of the hardcore punk outfit Black Flag, as well as the equally hard-hitting Rollins Band. This movie captures his unique brand of spoken word. Henry Rollins Goes to London is the second performance in a two-disc set and was recorded live on February 14 and 15, 1993, at the Astoria Theater. The first performance in the set, \"Henry Rollins: Talking From the Box\" was recorded on May 28, 1992, at the Henry Fonda Theater in Los Angeles, CA. Rollins shares his personal experiences and speaks his mind on politics, crime, sex, and relationships.', u'release_date': u'1992-01-01', u'popularity': 1.05, u'original_title': u'Henry Rollins: Talking From The Box', u'backdrop_path': u'/kMX2FBd8NNq1ImWGmH1MaVrbq6h.jpg', u'vote_count': 0, u'video': False, u'adult': False, u'vote_average': 0, u'original_language': u'en', u'id': 31470, u'genre_ids': [35]}, {u'poster_path': u'/ue4aK01qLd1DPMuGPnAlW2q3QId.jpg', u'title': u'Gayniggers from Outer Space', u'overview': u'Extraterrestrial beings travel the galaxy to free men \"oppressed\" by females to make way for an entirely-homosexual society.', u'release_date': u'1992-01-01', u'popularity': 1.002595, u'original_title': u'Gayniggers from Outer Space', u'backdrop_path': u'/4OTPmsc2FREc4Co0Dp9OSThICYy.jpg', u'vote_count': 17, u'video': False, u'adult': False, u'vote_average': 4.4, u'original_language': u'en', u'id': 33380, u'genre_ids': [35, 878]}, {u'poster_path': u'/z3RClTCi1dw60MqnGvFh9ppeJad.jpg', u'title': u\"Fool's Fire\", u'overview': u'A crippled dwarf is forced to become jester to a tyrannical king, but when the king abuses a beautiful dwarf with whom the jester is in love the jester plots a terrible revenge.', u'release_date': u'1992-01-01', u'popularity': 1.000623, u'original_title': u\"Fool's Fire\", u'backdrop_path': u'/uJaExbjWrOXrnXvT6ce4Ccdt8i2.jpg', u'vote_count': 0, u'video': False, u'adult': False, u'vote_average': 0, u'original_language': u'en', u'id': 33589, u'genre_ids': [18]}, {u'poster_path': u'/6mAG5zKnWJfn7TpOquIzYc3cHHx.jpg', u'title': u'We Are Not Angels', u'overview': u'Angel and the devil fight for the soul of a Belgrade playboy who made a young girl pregnant.', u'release_date': u'1992-01-01', u'popularity': 1.069087, u'original_title': u'Mi nismo an\\u0111eli', u'backdrop_path': u'/yRFmmplxo4Tzj98dSkHXRXYEMxj.jpg', u'vote_count': 12, u'video': False, u'adult': False, u'vote_average': 7.3, u'original_language': u'en', u'id': 33604, u'genre_ids': [35]}, {u'poster_path': u'/1euLGu3gg3eHmnhBZXAFN2x1pFG.jpg', u'title': u'Rush', u'overview': u\"Undercover cop Jim Raynor (Jason Patric) is a seasoned veteran. His partner, Kristen Cates (Jennifer Jason Leigh), is lacking in experience, but he thinks she's tough enough to work his next case with him: a deep cover assignment to bring down the notoriously hard-to-capture drug lord Gaines (Gregg Allman). While their relationship turns romantic during the assignment, they also turn into junkies, and will have to battle their own addictions if they want to bring down Gaines once and for all.\", u'release_date': u'1991-12-22', u'popularity': 1.472339, u'original_title': u'Rush', u'backdrop_path': u'/wSJySDCtO5CHYi1hiZBxf28XJLa.jpg', u'vote_count': 33, u'video': False, u'adult': False, u'vote_average': 6.8, u'original_language': u'en', u'id': 20289, u'genre_ids': [80, 18]}, {u'poster_path': u'/bJi7XGbOY8mYL6xcFjSijGbqXAB.jpg', u'title': u'Wildflower', u'overview': u\"One day Sammy and his younger sister Ellie happen upon a cabin where Alice, a young, partially deaf girl with epilepsy is being kept by her abusive stepfather. The three soon become friends and hope to get Alice an education and help her escape from the torture she undergoes daily. However, Alice's stepfather soon finds out about the friendship Alice has struck up and punishes her brutally. This story of friendship and youth shows that everyone is human and deserves to be treated so, no matter their disability or weakness.\", u'release_date': u'1991-12-03', u'popularity': 1.212994, u'original_title': u'Wildflower', u'backdrop_path': u'/fu0eRI28PqmqGBH7OeMpuck1FvV.jpg', u'vote_count': 3, u'video': False, u'adult': False, u'vote_average': 5.3, u'original_language': u'en', u'id': 21546, u'genre_ids': [18]}, {u'poster_path': u'/zRgzeFhX7NuAWNsMuAoLEKI1n0R.jpg', u'title': u'Grand Canyon', u'overview': u\"Grand Canyon revolved around six residents from different backgrounds whose lives intertwine in modern-day Los Angeles. At the center of the film is the unlikely friendship of two men from different races and classes brought together when one finds himself in jeopardy in the other's rough neighborhood.\", u'release_date': u'1991-12-25', u'popularity': 1.133077, u'original_title': u'Grand Canyon', u'backdrop_path': u'/5YAWqAf5NrvZKnlxKUK15kKi5Jl.jpg', u'vote_count': 39, u'video': False, u'adult': False, u'vote_average': 6.7, u'original_language': u'en', u'id': 13697, u'genre_ids': [18]}, {u'poster_path': u'/xyIspafqe3VgQHBjv3RWnHa9Mrj.jpg', u'title': u'My Life Is Hell', u'overview': u\"La na\\xefve et complex\\xe9e Leah signe par erreur un pacte avec le diable Abargadon. Mais elle est sur les listes du Paradis, aussi l'Archange Gabriel intervientil pour causer la perte du d\\xe9mon. Mais Leah commence \\xe0 trouver Abargadon s\\xe9duisant et pas si mauvais que \\xe7a. Elle d\\xe9cide de sauver son \\xe2me...\", u'release_date': u'1991-12-04', u'popularity': 1.000085, u'original_title': u'Ma vie est un enfer', u'backdrop_path': u'/gb6dQHJzUONbODpsr69wJeBYgy2.jpg', u'vote_count': 7, u'video': False, u'adult': False, u'vote_average': 5.9, u'original_language': u'fr', u'id': 4272, u'genre_ids': [35]}, {u'poster_path': u'/34FoAUoBCV3XdPngd0wF8rgszpP.jpg', u'title': u'Raise the Red Lantern', u'overview': u\"China in the 1920s. After her father's death, 19 year old Songlian is forced to marry the much older lord of a powerful family. With three wives already, each living in a separate house within the great castle, there is fierce competition for his attention and the privileges that are gained. This competition gets out of hand...\", u'release_date': u'1991-12-20', u'popularity': 1.274022, u'original_title': u'\\u5927\\u7ea2\\u706f\\u7b3c\\u9ad8\\u9ad8\\u6302', u'backdrop_path': u'/uqKrCval4hQe6Urh0CVQjN0UZfO.jpg', u'vote_count': 98, u'video': False, u'adult': False, u'vote_average': 7.8, u'original_language': u'zh', u'id': 10404, u'genre_ids': [18]}, {u'poster_path': None, u'title': u'Reflection in the Mirror', u'overview': u\"When a successful actor (played by Victor Proskurin, 'the husband of') stops working, he loses his own identity. The characters he played and the masks he wore mean he no longer recognizes his own mirror image. Fascinating portrait of an actor and the illusionary nature of his craft.\", u'release_date': u'1992-01-01', u'popularity': 1.024, u'original_title': u'Reflection in the Mirror', u'backdrop_path': None, u'vote_count': 0, u'video': False, u'adult': False, u'vote_average': 0, u'original_language': u'en', u'id': 78110, u'genre_ids': []}, {u'poster_path': u'/3koAG0a7FPnWAgJOXHHrivmiVYB.jpg', u'title': u'Pavarotti & Friends Collection: The Complete Concerts, 1992-2000', u'overview': u'Number of DVDs: 4 Pavarotti annually hosted the \"Pavarotti and Friends\" charity concerts in his home town of Modena in Italy, joining with singers from all parts of the music industry, including Andrea Bocelli, Jon Bon Jovi, Bryan Adams, Bono, James Brown, Mariah Carey, Eric Clapton, Sheryl Crow, C\\xe9line Dion, Elton John, Deep Purple, Queen, George Michael, Sting and the Spice Girls, to raise money for several UN causes. Concerts were held for War Child, and victims of war and civil unrest in Bosnia, Guatemala, Kosovo and Iraq. After the war in Bosnia, he financed and established the Pavarotti Music Centre in the southern city of Mostar to offer Bosnia\\'s artists the opportunity to develop their skills. For these contributions, the city of Sarajevo named him an honorary citizen in 2006.', u'release_date': u'1992-01-01', u'popularity': 1, u'original_title': u'Pavarotti & Friends Collection: The Complete Concerts, 1992-2000', u'backdrop_path': None, u'vote_count': 0, u'video': False, u'adult': False, u'vote_average': 0, u'original_language': u'en', u'id': 73491, u'genre_ids': []}, {u'poster_path': u'/1hRei0TRy1zEngPKbmbA234SgXa.jpg', u'title': u'Winnie the Pooh & Christmas Too', u'overview': u\"Pooh is so busy gathering up his friends' wish lists for Santa that he forgets to include his own. After retrieving the list and adding his own desires, he realizes he's late getting it where it needs to go. Off he goes to the North Pole on Christmas Eve, with pals Eeyore, Tigger, Piglet, Rabbit, and Christopher Robin missing him\", u'release_date': u'1991-12-14', u'popularity': 1.000507, u'original_title': u'Winnie the Pooh & Christmas Too', u'backdrop_path': u'/aWmT2cHctH4E6xTa6KYSQ7MYsMi.jpg', u'vote_count': 0, u'video': False, u'adult': False, u'vote_average': 0, u'original_language': u'en', u'id': 80357, u'genre_ids': [16, 10751]}, {u'poster_path': u'/nZsCwt5J7nLZlfle9ssszr5skSG.jpg', u'title': u\"Herman Finkers: Dat Heeft Zo'n Jongen Toch Niet Nodig\", u'overview': u'1. Opening, 2. Ein brief aus holland, 3. Je kunt er geen voorstelling van maken, Mijn broer, 5. Tante Sien, 6. Verkoopt U ook kussentjes? 7. De Ardennen, 8. De omroeppastor, 9. Recept voor een wilde eend, 10. Bonnie of een onmogelijke liefde, 11. Condooms of een onmogelijke liefde, 12. Het meisje van de slijterij, 13. Paterswolde, 14. Klein Duimpje, 15. Trouw nog eenmaal met mij, 16. In de sneeuw van Tirol, 17. Visite, 18. De Kikkerrap, 20. Gebarentaal, 21. Het meisje van de slijterij - besluit.', u'release_date': u'1992-01-01', u'popularity': 1.000002, u'original_title': u\"Herman Finkers: Dat Heeft Zo'n Jongen Toch Niet Nodig\", u'backdrop_path': None, u'vote_count': 0, u'video': False, u'adult': False, u'vote_average': 0, u'original_language': u'nl', u'id': 50440, u'genre_ids': [35]}, {u'poster_path': u'/kDtboY3TvCIR5tgiJcFFwPqWG4R.jpg', u'title': u'Harrie Jekkers: Met een Goudvis naar Zee', u'overview': u'', u'release_date': u'1992-01-01', u'popularity': 1, u'original_title': u'Harrie Jekkers: Met een Goudvis naar Zee', u'backdrop_path': None, u'vote_count': 2, u'video': False, u'adult': False, u'vote_average': 4.8, u'original_language': u'nl', u'id': 50445, u'genre_ids': [35]}]}\n"
     ]
    }
   ],
   "source": [
    "# Testing for one data\n",
    "\n",
    "# Creating the movie table with Rottentomato data using the movie names from TMDb\n",
    "Movies = pd.read_csv('Movies.csv', encoding='utf-8')\n",
    "\n",
    "# Relevant information to parse the data\n",
    "api_key = 'm7jmrcna938zje4rqefde4n7'\n",
    "moviesearch = 'http://api.rottentomatoes.com/api/public/v1.0/movies.json&page_limit=1?apikey='\n",
    "movieinfo = 'http://api.rottentomatoes.com/api/public/v1.0/movies/'\n",
    "movieinfo_key = '.json?apikey=' + api_key\n",
    "query = '&page_limit=2&q='\n",
    "\n",
    "#time.sleep(0.5)\n",
    "newname = Movies['Name'][7].replace(' ', '+') # newname is the part of the URL that we need to open \n",
    "newname = newname.replace('&', 'and')\n",
    "url = moviesearch + api_key + query + newname #  the url for each new movie \n",
    "try:\n",
    "    data = json.loads(urllib2.urlopen(url).read())\n",
    "except: \n",
    "    pass\n",
    "print data "
   ]
  },
  {
   "cell_type": "code",
   "execution_count": 28,
   "metadata": {
    "collapsed": false
   },
   "outputs": [
    {
     "name": "stdout",
     "output_type": "stream",
     "text": [
      "0\n"
     ]
    },
    {
     "ename": "KeyError",
     "evalue": "'total'",
     "output_type": "error",
     "traceback": [
      "\u001b[0;31m---------------------------------------------------------------------------\u001b[0m",
      "\u001b[0;31mKeyError\u001b[0m                                  Traceback (most recent call last)",
      "\u001b[0;32m<ipython-input-28-e8bdb1582fbb>\u001b[0m in \u001b[0;36m<module>\u001b[0;34m()\u001b[0m\n\u001b[1;32m     35\u001b[0m         \u001b[1;32mpass\u001b[0m\u001b[1;33m\u001b[0m\u001b[0m\n\u001b[1;32m     36\u001b[0m     \u001b[0mto_add\u001b[0m \u001b[1;33m=\u001b[0m \u001b[1;33m-\u001b[0m\u001b[1;36m1\u001b[0m\u001b[1;33m\u001b[0m\u001b[0m\n\u001b[0;32m---> 37\u001b[0;31m     \u001b[1;32mif\u001b[0m \u001b[1;33m(\u001b[0m\u001b[0mdata\u001b[0m\u001b[1;33m[\u001b[0m\u001b[1;34m'total'\u001b[0m\u001b[1;33m]\u001b[0m \u001b[1;33m>=\u001b[0m \u001b[1;36m1\u001b[0m\u001b[1;33m)\u001b[0m\u001b[1;33m:\u001b[0m\u001b[1;33m\u001b[0m\u001b[0m\n\u001b[0m\u001b[1;32m     38\u001b[0m         \u001b[0mtemp_id\u001b[0m \u001b[1;33m=\u001b[0m \u001b[1;36m0\u001b[0m\u001b[1;33m\u001b[0m\u001b[0m\n\u001b[1;32m     39\u001b[0m         if (data['movies'][0]['release_dates'] and ('theater' in data['movies'][0]['release_dates']) and\n",
      "\u001b[0;31mKeyError\u001b[0m: 'total'"
     ]
    }
   ],
   "source": [
    "# Creating the movie table with Rottentomato data using the movie names from TMDb\n",
    "Movies = pd.read_csv('Movies.csv', encoding='utf-8')\n",
    "\n",
    "# Relevant information to parse the data\n",
    "api_key = 'm7jmrcna938zje4rqefde4n7'\n",
    "moviesearch = 'http://api.rottentomatoes.com/api/public/v1.0/movies.json&page_limit=1?apikey='\n",
    "movieinfo = 'http://api.rottentomatoes.com/api/public/v1.0/movies/'\n",
    "movieinfo_key = '.json?apikey=' + api_key\n",
    "query = '&page_limit=2&q='\n",
    "\n",
    "# Declaring the empty lists for appending \n",
    "movie_id =[]\n",
    "imdb_id = []\n",
    "name = []\n",
    "cast = []\n",
    "release = []\n",
    "director = []\n",
    "genre = []\n",
    "critic_rating = []\n",
    "audience_rating = []\n",
    "review = []\n",
    "weblink = []\n",
    "\n",
    "# Looping through all the movies for running our logic\n",
    "for i in xrange(len(Movies['Name'])):  \n",
    "    #time.sleep(0.5)\n",
    "    if (i%500 == 0):\n",
    "        print i # Checking if it is working\n",
    "    newname = Movies['Name'][i].replace(' ','+') # newname is the part of the URL that we need to open \n",
    "    newname = newname.replace('&', 'and')\n",
    "    url = moviesearch + api_key + query + newname #  the url for each new movie  \n",
    "    try: \n",
    "        data = json.loads(urllib2.urlopen(url).read())\n",
    "    except: \n",
    "        pass\n",
    "    to_add = -1\n",
    "    if (data['total'] >= 1):\n",
    "        temp_id = 0\n",
    "        if (data['movies'][0]['release_dates'] and ('theater' in data['movies'][0]['release_dates']) and\n",
    "            abs(int(data['movies'][0]['release_dates']['theater'].split('-')[0]) - int(Movies['Year'][i])) < 2):\n",
    "            temp_id = data['movies'][0]['id']\n",
    "            to_add = 0\n",
    "        elif (data['total'] > 1):\n",
    "            if(data['movies'][1]['release_dates'] and ('theater' in data['movies'][1]['release_dates']) and\n",
    "               abs(int(data['movies'][1]['release_dates']['theater'].split('-')[0]) - int(Movies['Year'][i])) < 2):\n",
    "               temp_id = data['movies'][1]['id']\n",
    "               to_add = 1\n",
    "        if (to_add != -1):\n",
    "            idx = temp_id\n",
    "            url = movieinfo + str(idx) + movieinfo_key\n",
    "            info = json.loads(urllib2.urlopen(url).read())\n",
    "            #Use exception to deal with missing data.\n",
    "            try:\n",
    "                temp_imdb_id = info['alternate_ids']['imdb']\n",
    "                temp_name = info['title']\n",
    "                temp_cast = info['abridged_cast']\n",
    "                temp_release = info['release_dates']['theater']\n",
    "                temp_director = info['abridged_directors']\n",
    "                temp_genre = info['genres']\n",
    "                temp_critic = info['ratings']['critics_score']\n",
    "                temp_andience = info['ratings']['audience_score']\n",
    "                temp_review = info['links']['reviews']\n",
    "                temp_weblink = info['links']['alternate']\n",
    "                movie_id.append(temp_id)\n",
    "                imdb_id.append(info['alternate_ids']['imdb'])\n",
    "                name.append(info['title'])\n",
    "                cast.append(info['abridged_cast'])\n",
    "                release.append(info['release_dates']['theater'])\n",
    "                director.append(info['abridged_directors'])\n",
    "                genre.append(info['genres'])\n",
    "                critic_rating.append(info['ratings']['critics_score'])\n",
    "                audience_rating.append(info['ratings']['audience_score'])\n",
    "                review.append(info['links']['reviews'])\n",
    "                weblink.append(info['links']['alternate'])\n",
    "            except:\n",
    "                pass \n"
   ]
  }
 ],
 "metadata": {
  "kernelspec": {
   "display_name": "Python 2",
   "language": "python",
   "name": "python2"
  },
  "language_info": {
   "codemirror_mode": {
    "name": "ipython",
    "version": 2
   },
   "file_extension": ".py",
   "mimetype": "text/x-python",
   "name": "python",
   "nbconvert_exporter": "python",
   "pygments_lexer": "ipython2",
   "version": "2.7.13"
  }
 },
 "nbformat": 4,
 "nbformat_minor": 2
}
